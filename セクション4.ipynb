{
 "cells": [
  {
   "cell_type": "code",
   "execution_count": null,
   "metadata": {},
   "outputs": [],
   "source": [
    "# コンソールで設定したSparkとNoteBookを接続します(動かす前に毎度実行する必要があります)\n",
    "import findspark\n",
    "findspark.init(\"/home/pyspark/spark\")"
   ]
  },
  {
   "cell_type": "code",
   "execution_count": null,
   "metadata": {},
   "outputs": [],
   "source": [
    "#pysparkに必要なライブラリを読み込む\n",
    "from pyspark import SparkConf\n",
    "from pyspark import SparkContext\n",
    "from pyspark.sql import SparkSession\n",
    "\n",
    "#spark sessionの作成\n",
    "# spark.ui.enabled trueとするとSparkのGUI画面を確認することができます\n",
    "# spark.eventLog.enabled true　とすると　GUIで実行ログを確認することができます\n",
    "# GUIなどの確認は最後のセクションで説明を行います。\n",
    "spark = SparkSession.builder \\\n",
    "    .appName(\"chapter1\") \\\n",
    "    .config(\"hive.exec.dynamic.partition\", \"true\") \\\n",
    "    .config(\"hive.exec.dynamic.partition.mode\", \"nonstrict\") \\\n",
    "    .config(\"spark.sql.session.timeZone\", \"JST\") \\\n",
    "    .config(\"spark.ui.enabled\",\"true\") \\\n",
    "    .config(\"spark.eventLog.enabled\",\"true\") \\\n",
    "    .enableHiveSupport() \\\n",
    "    .getOrCreate()\n",
    "\n",
    "\n",
    "# spark.xxxxxと記載することで処理を分散させることが可能です。"
   ]
  },
  {
   "cell_type": "code",
   "execution_count": null,
   "metadata": {},
   "outputs": [],
   "source": [
    "#　データの読み込みを行う\n",
    "\n",
    "from pyspark.sql.types import StructType, StructField, StringType\n",
    "from pyspark.sql.functions import col\n",
    "import pyspark.sql.functions as F\n",
    "\n",
    "struct = StructType([\n",
    "    StructField(\"code\", StringType(), False),\n",
    "    StructField(\"gengo\", StringType(), False),\n",
    "    StructField(\"wareki\", StringType(), False),\n",
    "    StructField(\"seireki\", StringType(), False),\n",
    "    StructField(\"chu\", StringType(), False),\n",
    "    StructField(\"sokei\", StringType(), False),\n",
    "    StructField(\"jinko_male\", StringType(), False),\n",
    "    StructField(\"jinko_female\", StringType(), False)\n",
    "])\n",
    "df=spark.read.option(\"multiLine\", \"true\").option(\"encoding\", \"UTF-8\") \\\n",
    "    .csv(\"./datafile/jinko.csv\", header=False, sep=',', inferSchema=False,schema=struct)\n",
    "\n",
    "struct2 = StructType([\n",
    "    StructField(\"code\", StringType(), False),\n",
    "    StructField(\"kenmei\", StringType(), False)\n",
    "])\n",
    "df2=spark.read.option(\"multiLine\", \"true\").option(\"encoding\", \"UTF-8\") \\\n",
    "    .csv(\"./datafile/kenmei_master.csv\", header=False, sep=',', inferSchema=False,schema=struct2)\n",
    "\n",
    "\n",
    "struct3 = StructType([\n",
    "    StructField(\"codes\", StringType(), False),\n",
    "    StructField(\"kenmei\", StringType(), False)\n",
    "])\n",
    "df3=spark.read.option(\"multiLine\", \"true\").option(\"encoding\", \"UTF-8\") \\\n",
    "    .csv(\"./datafile/kenmei_master.csv\", header=False, sep=',', inferSchema=False,schema=struct3)\n"
   ]
  },
  {
   "cell_type": "markdown",
   "metadata": {},
   "source": [
    "# 今までのテスト結果をデータフレームに保存してみます"
   ]
  },
  {
   "cell_type": "code",
   "execution_count": null,
   "metadata": {},
   "outputs": [],
   "source": [
    "# 結果の結合をおこなってdf_resultデータフレームに保存します\n",
    "\n",
    "# データのリペア\n",
    "df = df.filter(F.col(\"code\")!=\"都道府県コード\") \\\n",
    "    .filter(~F.col(\"code\").contains(\"1)　沖縄県は調査され\"))\\\n",
    "    .filter(~F.col(\"code\").contains(\"2)　長野県西筑摩群山口村\"))\n",
    "\n",
    "# column num\n",
    "df = df.withColumn(\"column_num_check\", F.when(F.lit(len(df.columns)) == 8,F.lit(1)))\n",
    "\n",
    "# gengo\n",
    "df = df.withColumn(\"gengo_wareki_if_then_check\",\n",
    "    F.when(F.col(\"gengo\") == \"大正\", \n",
    "        ((F.col(\"wareki\").cast(\"integer\") > 0) & (F.col(\"wareki\").cast(\"integer\") <= 62)).cast(\"long\")\n",
    "    )\n",
    ")\n",
    "\n",
    "# zero_control\n",
    "df = df.withColumn(\n",
    "    'sokei_check_zero_control', \n",
    "    (F.col('sokei') == (F.col('jinko_male') + F.col('jinko_female'))).cast(\"long\")\n",
    ")\n",
    "\n",
    "# dictionary\n",
    "df = df.withColumn(\"gengo_dictionary_chek\", (F.col(\"gengo\").isin(['大正','昭和','平成'])).cast(\"long\"))\n",
    "\n",
    "# range\n",
    "df = df.withColumn(\"seireki_range_check\", (F.col(\"seireki\").between(1920,2015)).cast(\"long\"))\n",
    "\n",
    "# null/uniqueness\n",
    "df = df.withColumn(\"unique_ness_check\", \n",
    "    F.lit(df.agg(F.countDistinct(\"code\",\"gengo\", \"wareki\").alias(\"countdistinct\")).collect()[0][0]) / F.lit(df.count()))\n",
    "\n",
    "# pattern\n",
    "df = df.withColumn(\"seireki_pattern_chek\", (F.col(\"seireki\").rlike(\"\\d{4}\")).cast(\"long\"))\n",
    "\n",
    "# consistency\n",
    "df = df.withColumn(\"code_consistency_check\", \n",
    "    F.lit(df.select(\"code\").distinct().count()) / F.lit(df.select(\"code\").intersect(df2.select(\"code\")).count()))\n",
    "\n",
    "# ratio\n",
    "df = df.withColumn(\"jinko_male_jinko_female_ratio_check\", \n",
    "    F.col(\"jinko_male\").cast(\"integer\") / F.col(\"jinko_female\").cast(\"integer\")) \\\n",
    "        .withColumn(\"jinko_male_jinko_female_ratio_check\", (F.col(\"jinko_male_jinko_female_ratio_check\").between(0.8, 1.2)).cast(\"long\"))\n",
    "\n",
    "# timeliness\n",
    "df = df.withColumn(\"timelineness_check\", F.current_timestamp())\n",
    "\n",
    "# 0 check\n",
    "df_result = df.withColumn(\"count_check\", F.when(F.lit(df.count()) > 0, F.lit(1)))"
   ]
  },
  {
   "cell_type": "code",
   "execution_count": null,
   "metadata": {},
   "outputs": [],
   "source": [
    "# check以外の項目を除くことも可能\n",
    "df_result.select(df_result.colRegex(\"`.*check.*`\"))\n",
    "\n",
    "# 重複が多いので一つのカラムの中に一個でもFalseを含んでいたらCheckの結果としてFlaseというサマリーデータを格納するのもOK\n",
    "# 詳細の確認はデータが大きくなることからmysqlに保存するのではなくS3などにそのまま保存しておくのはOK\n",
    "\n",
    "peke = df_result.summary()\n",
    "\n",
    "# 日付はダメなので add columnすることも考える\n",
    "peke.withColmn(\"timelineness_check\", df.timelineness_check)\n"
   ]
  },
  {
   "cell_type": "code",
   "execution_count": null,
   "metadata": {},
   "outputs": [],
   "source": [
    "# mysqlへのデータ書き込み\n",
    "# mysqlのテーブルは勝手に作ってくれます。\n",
    "\n",
    "df_result.write.format('jdbc').options(\n",
    "      url='jdbc:mysql://db_mysql/metadata?enabledTLSProtocols=TLSv1.2',\n",
    "      driver='com.mysql.jdbc.Driver',\n",
    "      dbtable='metadatas',\n",
    "      user='root',\n",
    "      password='root').mode('overwrite').save()"
   ]
  },
  {
   "cell_type": "markdown",
   "metadata": {},
   "source": [
    "# mysqlでの確認をしてみましょう\n",
    "\n",
    "```\n",
    "mysql -h db_mysql -u root -proot  metadata\n",
    "select * from metadatas\n",
    "```"
   ]
  },
  {
   "cell_type": "code",
   "execution_count": null,
   "metadata": {},
   "outputs": [],
   "source": [
    "# 最後はSparkをクローズする\n",
    "spark.stop()\n",
    "spark.sparkContext.stop()"
   ]
  }
 ],
 "metadata": {
  "interpreter": {
   "hash": "cadefa720d1a2267f4d12d08d812560a64cfe891877bc388bf0e8af3e4846067"
  },
  "kernelspec": {
   "display_name": "Python 3.8.0 64-bit",
   "name": "python3"
  },
  "language_info": {
   "codemirror_mode": {
    "name": "ipython",
    "version": 3
   },
   "file_extension": ".py",
   "mimetype": "text/x-python",
   "name": "python",
   "nbconvert_exporter": "python",
   "pygments_lexer": "ipython3",
   "version": "3.9.1"
  },
  "orig_nbformat": 2
 },
 "nbformat": 4,
 "nbformat_minor": 2
}
